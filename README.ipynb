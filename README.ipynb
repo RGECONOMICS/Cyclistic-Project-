{
 "cells": [
  {
   "cell_type": "markdown",
   "id": "e24cdd3c",
   "metadata": {},
   "source": [
    "# 🚲 Cyclistic Bike-Share Analysis\n",
    "\n",
    "## 📝 Overview\n",
    "This is a final project to complete the Data Analyst Course from Google. The project involves analyzing the usage patterns of Cyclistic's bike-share program by comparing the behavior of casual riders and annual members. Using a combination of SQL for data cleaning and transformation, and Tableau for data visualization, the goal is to extract valuable insights that can help Cyclistic improve their marketing strategies and convert casual riders into annual members. The project demonstrates key data analysis skills, including data wrangling, visualization, and storytelling through interactive dashboards.\n",
    "\n",
    "## 📊 Tableau Dashboard\n",
    "View the interactive dashboard here:  \n",
    "👉 [Cyclistic Dashboard on Tableau Public](https://public.tableau.com/app/profile/roger8466/vizzes)\n",
    "\n",
    "## 🛠 Tools Used\n",
    "- **SQL**: For data cleaning, transformation, and analysis.\n",
    "- **Excel**: For handling initial data imports and basic data wrangling.\n",
    "- **R**: For any additional statistical analysis or data processing.\n",
    "- **Tableau**: For data visualization and creating interactive dashboards.\n",
    "\n",
    "## 📚 Sources\n",
    "- **Chicago Weather Dataset**: [Kaggle - Chicago Weather Database](https://www.kaggle.com/datasets/curiel/chicago-weather-database)\n",
    "- **Cyclistic Dataset**: [Divvy Trip Data](https://divvy-tripdata.s3.amazonaws.com/index.html)\n",
    "\n",
    "## 📌 Personal Insights\n",
    "- **Key Findings**: Casual riders use bikes more on weekends, while annual members predominantly ride during weekdays. Casual riders tend to take longer rides compared to annual members.\n",
    "- **Recommendations**: Cyclistic could consider offering promotions or discounts to casual riders to encourage them to become annual members, especially in areas where casual usage is high.\n",
    "- **Learning Experience**: This project enhanced my skills in SQL, data wrangling, and creating compelling data visualizations in Tableau.\n"
   ]
  },
  {
   "cell_type": "code",
   "execution_count": null,
   "id": "4fd7bde4",
   "metadata": {},
   "outputs": [],
   "source": []
  }
 ],
 "metadata": {
  "kernelspec": {
   "display_name": "Python 3 (ipykernel)",
   "language": "python",
   "name": "python3"
  },
  "language_info": {
   "codemirror_mode": {
    "name": "ipython",
    "version": 3
   },
   "file_extension": ".py",
   "mimetype": "text/x-python",
   "name": "python",
   "nbconvert_exporter": "python",
   "pygments_lexer": "ipython3",
   "version": "3.11.5"
  }
 },
 "nbformat": 4,
 "nbformat_minor": 5
}
